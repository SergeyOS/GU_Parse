{
 "cells": [
  {
   "cell_type": "markdown",
   "metadata": {},
   "source": [
    "Задание 1.   \n",
    "Доработать приложение по поиску авиабилетов, чтобы оно возвращало билеты по названию города, а не по IATA коду. \n",
    "Пункт отправления и пункт назначения должны передаваться в качестве параметров. \n",
    "Сделать форматированный вывод, который содержит в себе пункт отправления, пункт назначения, дату вылета, цену билета (можно добавить еще другие параметры по желанию)"
   ]
  },
  {
   "cell_type": "code",
   "execution_count": 1,
   "metadata": {},
   "outputs": [],
   "source": [
    "import requests\n",
    "import pprint\n",
    "from datetime import datetime, timedelta\n",
    "import calendar\n"
   ]
  },
  {
   "cell_type": "code",
   "execution_count": 2,
   "metadata": {},
   "outputs": [
    {
     "name": "stdout",
     "output_type": "stream",
     "text": [
      "Дата вылета  |Отправление  |Назначение   |Cтоимость    |Продавец     |\n",
      "2019-09-14   |MOW          |LED          |      4180.0 |Aviakassa    |\n",
      "2019-09-14   |MOW          |LED          |      4580.0 |Aviakassa    |\n",
      "2019-09-14   |MOW          |LED          |      4180.0 |Aviakassa    |\n",
      "2019-09-14   |MOW          |LED          |      5480.0 |Aviakassa    |\n",
      "2019-09-14   |MOW          |LED          |      4400.0 |Pobeda       |\n",
      "2019-09-14   |MOW          |LED          |      4400.0 |Pobeda       |\n",
      "2019-09-14   |MOW          |LED          |      4400.0 |Pobeda       |\n",
      "2019-09-14   |MOW          |LED          |      4400.0 |Pobeda       |\n",
      "2019-09-14   |MOW          |LED          |      5300.0 |Pobeda       |\n",
      "2019-09-14   |MOW          |LED          |      4180.0 |Aviakassa    |\n"
     ]
    }
   ],
   "source": [
    "def getjson_aviasales(link, params):\n",
    "    req = requests.get(link, params=params)\n",
    "    return req.json()\n",
    "\n",
    "def print_aviasales(params=['Дата вылета', 'Отправление', 'Назначение', 'Cтоимость', 'Продавец']):\n",
    "    for spam in params:\n",
    "        print(f\"{spam:12.12}\", sep='\\t',  end=' |')\n",
    "    print(\"\", sep='\\n')\n",
    "    \n",
    "origin =  'Москва'\n",
    "destination = 'Санкт-Петербург'\n",
    "search_params =  {\n",
    "    'q': f'из {origin} в {destination}'\n",
    "}#описание пути\n",
    "airports = getjson_aviasales(\"https://www.travelpayouts.com/widgets_suggest_params\", search_params )\n",
    "#pprint.pprint(airports)\n",
    "\n",
    "depart_date =  datetime.strptime('2019-09-14', '%Y-%m-%d')\n",
    "\n",
    "flight_params = {\n",
    "    'origin': airports['origin']['iata'],\n",
    "    'destination': airports['destination']['iata'],\n",
    "    'one_way': 'false',\n",
    "    'depart_date': f\"{depart_date:%Y-%m-%d}\" #дата отправления\n",
    "}\n",
    "prices = getjson_aviasales(\"http://min-prices.aviasales.ru/calendar_preload\", flight_params)\n",
    "#pprint.pprint(flight_params)\n",
    "#pprint.pprint(prices)\n",
    "print_aviasales()\n",
    "current_depart_date_prices = prices['current_depart_date_prices']\n",
    "for spam in range(min(len(current_depart_date_prices), 10)):\n",
    "    params = [current_depart_date_prices[spam]['depart_date'], current_depart_date_prices[spam]['origin'],\n",
    "              current_depart_date_prices[spam]['destination'], current_depart_date_prices[spam]['value'], \n",
    "              current_depart_date_prices[spam]['gate']]\n",
    "    print_aviasales(params)"
   ]
  },
  {
   "cell_type": "markdown",
   "metadata": {},
   "source": [
    "Задание 2.     \n",
    "В приложении парсинга википедии получить первую ссылку на другую страницу и вывести все значимые слова из неё. Результат записать в файл в форматированном виде\n",
    "Задание 3.*Научить приложение определять количество ссылок в статье. Спарсить каждую ссылку и результаты записать в отдельные файлы."
   ]
  },
  {
   "cell_type": "code",
   "execution_count": 3,
   "metadata": {},
   "outputs": [],
   "source": [
    "import collections\n",
    "import requests\n",
    "import re\n",
    "import urllib.parse\n",
    "import json\n",
    "\n",
    "# возвращает html код статьи\n",
    "def return_wiki_html(topic):\n",
    "    wiki_request = requests.get(f'https://ru.wikipedia.org/wiki/{topic.capitalize()}')\n",
    "    return wiki_request.text\n",
    "\n",
    "# возвращает 10 часто используемых слов статьи \n",
    "def return_words(topic):\n",
    "    wiki_html = return_wiki_html(topic)\n",
    "    words = re.findall('[а-яА-Я]{3,}', wiki_html)\n",
    "    words_counter = collections.Counter()\n",
    "    for word in words:\n",
    "        words_counter[word] += 1\n",
    "    return words_counter.most_common(10)\n",
    "\n",
    "# печать 10 часто используемых слов статьи \n",
    "def print_words(topic):\n",
    "    words = return_words(topic)\n",
    "    for word in words:\n",
    "        print(f'Слово {word[0]} встречается {word[1]} раз')\n",
    "        \n",
    "# возвращает список ссылок из статьи на другие темы        \n",
    "def return_urls(topic):\n",
    "    wiki_html = return_wiki_html(topic)\n",
    "    regex = 'href=\\\"\\/wiki\\/(.+?)\".+?'\n",
    "    return list(map(lambda x: \"https://ru.wikipedia.org/wiki/\" + urllib.parse.unquote(x).capitalize(), \n",
    "                    re.findall(regex , wiki_html)))\n",
    "\n",
    "# возвращает список тем, на которые есть ссылки в статье    \n",
    "def return_topics(topic):\n",
    "    wiki_html = return_wiki_html(topic)\n",
    "    regex = 'href=\\\"\\/wiki\\/(.+?)\".+?'\n",
    "    return list(map(lambda x: urllib.parse.unquote(x).capitalize(), re.findall(regex , wiki_html)))\n",
    "\n",
    "#сохраняет статистику слов в файл по указанной теме\n",
    "def save_in_file(topic):    \n",
    "    with open(topic.capitalize()+\".txt\", 'w') as file:\n",
    "         json.dump(return_words(topic), file, ensure_ascii=False)\n",
    "    print(f'Файл {topic}.txt сохранен')    "
   ]
  },
  {
   "cell_type": "code",
   "execution_count": 4,
   "metadata": {},
   "outputs": [
    {
     "name": "stdout",
     "output_type": "stream",
     "text": [
      "5 cсылок на другие темы в теме Общая теория систем\n",
      "https://ru.wikipedia.org/wiki/Система\n",
      "https://ru.wikipedia.org/wiki/Системный_подход\n",
      "https://ru.wikipedia.org/wiki/Берталанфи,_людвиг_фон\n",
      "https://ru.wikipedia.org/wiki/Изоморфизм\n",
      "https://ru.wikipedia.org/wiki/Кибернетика\n"
     ]
    }
   ],
   "source": [
    "MAIN_TOPIC = 'Общая теория систем'\n",
    "MAX_COUNT_TOPICS = 5 #ограничиваем список тем для удобства демонстрации\n",
    "print(f'{MAX_COUNT_TOPICS} cсылок на другие темы в теме {MAIN_TOPIC}')\n",
    "for url in return_urls(MAIN_TOPIC)[:MAX_COUNT_TOPICS]:\n",
    "    print(url)  "
   ]
  },
  {
   "cell_type": "code",
   "execution_count": 5,
   "metadata": {},
   "outputs": [
    {
     "name": "stdout",
     "output_type": "stream",
     "text": [
      "Часто используемые слова в теме Общая теория систем\n",
      "Слово систем встречается 253 раз\n",
      "Слово теории встречается 101 раз\n",
      "Слово исследования встречается 89 раз\n",
      "Слово теория встречается 83 раз\n",
      "Слово Наука встречается 71 раз\n",
      "Слово как встречается 58 раз\n",
      "Слово Общая встречается 54 раз\n",
      "Слово общей встречается 54 раз\n",
      "Слово Берталанфи встречается 53 раз\n",
      "Слово Системные встречается 53 раз\n"
     ]
    }
   ],
   "source": [
    "print(f'Часто используемые слова в теме {MAIN_TOPIC}')\n",
    "print_words(MAIN_TOPIC)"
   ]
  },
  {
   "cell_type": "code",
   "execution_count": 6,
   "metadata": {},
   "outputs": [
    {
     "name": "stdout",
     "output_type": "stream",
     "text": [
      "5 тем в статье Общая теория систем\n"
     ]
    },
    {
     "data": {
      "text/plain": [
       "['Система',\n",
       " 'Системный_подход',\n",
       " 'Берталанфи,_людвиг_фон',\n",
       " 'Изоморфизм',\n",
       " 'Кибернетика']"
      ]
     },
     "execution_count": 6,
     "metadata": {},
     "output_type": "execute_result"
    }
   ],
   "source": [
    "print(f'{MAX_COUNT_TOPICS} тем в статье {MAIN_TOPIC}')\n",
    "return_topics(MAIN_TOPIC)[:MAX_COUNT_TOPICS]"
   ]
  },
  {
   "cell_type": "code",
   "execution_count": 7,
   "metadata": {},
   "outputs": [
    {
     "name": "stdout",
     "output_type": "stream",
     "text": [
      "Файл Система.txt сохранен\n",
      "Файл Системный_подход.txt сохранен\n",
      "Файл Берталанфи,_людвиг_фон.txt сохранен\n",
      "Файл Изоморфизм.txt сохранен\n",
      "Файл Кибернетика.txt сохранен\n"
     ]
    }
   ],
   "source": [
    "for topic in return_topics(MAIN_TOPIC)[:MAX_COUNT_TOPICS]:\n",
    "    save_in_file(topic)"
   ]
  },
  {
   "cell_type": "code",
   "execution_count": null,
   "metadata": {},
   "outputs": [],
   "source": []
  }
 ],
 "metadata": {
  "kernelspec": {
   "display_name": "Python 3",
   "language": "python",
   "name": "python3"
  },
  "language_info": {
   "codemirror_mode": {
    "name": "ipython",
    "version": 3
   },
   "file_extension": ".py",
   "mimetype": "text/x-python",
   "name": "python",
   "nbconvert_exporter": "python",
   "pygments_lexer": "ipython3",
   "version": "3.7.1"
  }
 },
 "nbformat": 4,
 "nbformat_minor": 2
}
