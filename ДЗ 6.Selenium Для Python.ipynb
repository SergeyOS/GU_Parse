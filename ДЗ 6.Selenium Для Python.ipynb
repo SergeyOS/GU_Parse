{
 "cells": [
  {
   "cell_type": "markdown",
   "metadata": {},
   "source": [
    "#### Selenium Для Python. Парсим динамические и закрытые данные\n",
    "1) Написать программу, которая собирает входящие письма из своего или тестового почтового ящика и сложить данные о письмах в базу данных (от кого, дата отправки, тема письма, текст письма)\n"
   ]
  },
  {
   "cell_type": "code",
   "execution_count": 1,
   "metadata": {},
   "outputs": [],
   "source": [
    "from selenium import webdriver\n",
    "from selenium.webdriver.common.keys import Keys\n",
    "import time\n",
    "from pymongo import MongoClient\n",
    "\n",
    "DEBUG = True "
   ]
  },
  {
   "cell_type": "code",
   "execution_count": 2,
   "metadata": {},
   "outputs": [],
   "source": [
    "LOGIN = ''\n",
    "PASSWORD = ''"
   ]
  },
  {
   "cell_type": "code",
   "execution_count": 3,
   "metadata": {},
   "outputs": [],
   "source": [
    "#Авторизация \n",
    "def login_to_mail_ru(driver , login=LOGIN, password = PASSWORD):\n",
    "    driver.get(\"https://mail.ru/\") \n",
    "    elem = driver.find_element_by_id('mailbox:login')\n",
    "    elem.send_keys(login)\n",
    "    elem = driver.find_element_by_id('mailbox:password')\n",
    "    elem.send_keys(password)\n",
    "    elem.send_keys(Keys.RETURN)\n",
    "    time.sleep(10)\n",
    "    if \"Входящие - Почта Mail.ru\" in driver.title:\n",
    "        return True\n",
    "    else:\n",
    "        return False\n",
    "#Выход их аккаунта    \n",
    "def logout_mail_ru(driver):\n",
    "    time.sleep(10)\n",
    "    driver.find_element_by_id('PH_logoutLink').click()\n",
    "    print('Осуществлен выход из аккаунта')\n",
    "    driver.close()\n",
    "    print('Закрыт браузер')\n",
    "    \n",
    "#Парсинг страницы с одним письмом    \n",
    "def parse_one_email_mail_ru(driver):\n",
    "    letter_author = driver.find_element_by_class_name('letter__contact-item').get_attribute('title')\n",
    "    letter_date = driver.find_element_by_class_name('letter__date').text \n",
    "    letter_subject = driver.find_element_by_class_name('thread__subject').text \n",
    "    letter_text = driver.find_element_by_class_name('letter-body__body-content').text\n",
    "    return {'letter_author':letter_author, \n",
    "            'letter_date':letter_date, \n",
    "            'letter_subject':letter_subject, \n",
    "            'letter_text':letter_text}\n",
    "\n",
    "#Парсинг раздела Входящие\n",
    "def parse_emails_mail_ru(driver):\n",
    "    emails = []\n",
    "    len_elements = len(driver.find_elements_by_class_name('llc'))\n",
    "    print(f'Найдено {len_elements} входящих писем')\n",
    "    for i in range(len_elements):\n",
    "        driver.find_elements_by_class_name('llc')[i].click()        \n",
    "        time.sleep(10)\n",
    "        emails.append(parse_one_email_mail_ru(driver))\n",
    "        driver.back()\n",
    "        time.sleep(10)\n",
    "    print(f'Обработано {len(emails)} писем.')\n",
    "    return emails\n",
    "\n",
    "#Основная функция\n",
    "def main_parse_emails_mail_ru(login=LOGIN, password = PASSWORD):\n",
    "    driver = webdriver.Firefox()\n",
    "    driver.implicitly_wait(10)\n",
    "    if login_to_mail_ru(driver, login, password):\n",
    "        print('Авторизация прошла успешно')\n",
    "        emails = parse_emails_mail_ru(driver)\n",
    "        if len(emails) != 0:\n",
    "            save_emails_mail_ru(emails)\n",
    "        logout_mail_ru(driver)\n",
    "    else:\n",
    "        print(f'Авторизация прошла неудачно: {driver.title}')\n",
    "\n",
    "#Функция сохранения в базу данных\n",
    "def save_emails_mail_ru(emails):\n",
    "    client = MongoClient('mongodb://127.0.0.1:27017')\n",
    "    db = client['test']\n",
    "    mail_ru_collection = db.mail_ru\n",
    "    \n",
    "    if DEBUG:\n",
    "        mail_ru_collection.drop()\n",
    "        \n",
    "    result = mail_ru_collection.insert_many(emails)    \n",
    "    print(f'Сохранено {len(result.inserted_ids)}')"
   ]
  },
  {
   "cell_type": "code",
   "execution_count": 4,
   "metadata": {},
   "outputs": [
    {
     "name": "stdout",
     "output_type": "stream",
     "text": [
      "Авторизация прошла успешно\n",
      "Найдено 4 входящих писем\n",
      "Обработано 4 писем.\n",
      "Сохранено 4\n",
      "Осуществлен выход из аккаунта\n",
      "Закрыт браузер\n"
     ]
    }
   ],
   "source": [
    "main_parse_emails_mail_ru(LOGIN, PASSWORD)"
   ]
  },
  {
   "cell_type": "markdown",
   "metadata": {},
   "source": [
    "\n",
    "2) Написать программу, которая собирает «Хиты продаж» с сайтов техники mvideo, onlinetrade и складывает данные в БД. Магазины можно выбрать свои. Главный критерий выбора: динамически загружаемые товары"
   ]
  },
  {
   "cell_type": "code",
   "execution_count": 5,
   "metadata": {},
   "outputs": [],
   "source": [
    "from selenium.webdriver.support.ui import Select\n",
    "from selenium.webdriver.support import expected_conditions as EC\n",
    "from selenium.webdriver.common.by import By\n",
    "from selenium.webdriver.support.ui import WebDriverWait\n",
    "from selenium.webdriver.common.action_chains import ActionChains"
   ]
  },
  {
   "cell_type": "code",
   "execution_count": 6,
   "metadata": {},
   "outputs": [],
   "source": [
    "#Основная функция\n",
    "def parse_hits_mvideo():\n",
    "    result = []\n",
    "    driver = webdriver.Firefox()\n",
    "    driver.implicitly_wait(10)\n",
    "    driver.get(\"https://www.mvideo.ru/\") \n",
    "    time.sleep(10)\n",
    "    # Избавляемся от баннера\n",
    "    WebDriverWait(driver,30).until(EC.presence_of_all_elements_located((By.ID, 'fl-226164')))\n",
    "    action = ActionChains(driver)\n",
    "    action.click()\n",
    "    action.perform()\n",
    "    \n",
    "    hits_gallery = driver.find_elements_by_class_name('accessories-new')[0]  # Хиты продаж первые на странице  \n",
    "    next_btn = hits_gallery.find_element_by_class_name('next-btn')\n",
    "    db_hists_mvideo = init_db()\n",
    "    for i in range(5):\n",
    "        hits = hits_gallery.find_elements_by_class_name('gallery-list-item')\n",
    "        for hit in hits[:4]:\n",
    "            title = hit.find_element_by_tag_name('h4').get_attribute('title')\n",
    "            price = hit.find_element_by_class_name('c-pdp-price__current').text\n",
    "            insert_hits(db_hists_mvideo, {\n",
    "               'title':title,\n",
    "               'price':price \n",
    "            })\n",
    "        next_btn.click() \n",
    "        time.sleep(10)\n",
    "        \n",
    "    driver.close()\n",
    "    \n",
    "def init_db():\n",
    "    client = MongoClient('mongodb://127.0.0.1:27017')\n",
    "    db = client['test']\n",
    "    hits_mvideo_collection = db.hits_mvideo\n",
    "    if DEBUG:\n",
    "        hits_mvideo_collection.drop()\n",
    "    return hits_mvideo_collection\n",
    "\n",
    "def insert_hits(db_hists_mvideo, hits):\n",
    "    db_hists_mvideo.insert_one(hits)"
   ]
  },
  {
   "cell_type": "code",
   "execution_count": 7,
   "metadata": {},
   "outputs": [],
   "source": [
    "parse_hits_mvideo()"
   ]
  },
  {
   "cell_type": "code",
   "execution_count": null,
   "metadata": {},
   "outputs": [],
   "source": []
  }
 ],
 "metadata": {
  "kernelspec": {
   "display_name": "Python 3",
   "language": "python",
   "name": "python3"
  },
  "language_info": {
   "codemirror_mode": {
    "name": "ipython",
    "version": 3
   },
   "file_extension": ".py",
   "mimetype": "text/x-python",
   "name": "python",
   "nbconvert_exporter": "python",
   "pygments_lexer": "ipython3",
   "version": "3.7.1"
  }
 },
 "nbformat": 4,
 "nbformat_minor": 2
}
