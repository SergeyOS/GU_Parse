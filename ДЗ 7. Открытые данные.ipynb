{
 "cells": [
  {
   "cell_type": "markdown",
   "metadata": {},
   "source": [
    "#### Открытые данные \n",
    "\n",
    "1. Создать приложение, которое будет из готового файла с данными «Сбербанка» (https://www.sberbank.com/ru/analytics/opendata) выводить результат по параметрам:   \n",
    "    • Тип данных  \n",
    "    • Интервал дат  \n",
    "    • Область  \n",
    "2. Визуализировать выводимые данные с помощью графика"
   ]
  },
  {
   "cell_type": "code",
   "execution_count": 1,
   "metadata": {},
   "outputs": [],
   "source": [
    "import matplotlib.pyplot as plt\n",
    "import pandas as pd\n",
    "from ipywidgets import widgets, Layout, interact_manual"
   ]
  },
  {
   "cell_type": "code",
   "execution_count": 2,
   "metadata": {},
   "outputs": [
    {
     "name": "stdout",
     "output_type": "stream",
     "text": [
      "<class 'pandas.core.frame.DataFrame'>\n",
      "RangeIndex: 74842 entries, 0 to 74841\n",
      "Data columns (total 4 columns):\n",
      "name      74842 non-null object\n",
      "region    74842 non-null object\n",
      "date      74842 non-null datetime64[ns]\n",
      "value     74842 non-null int64\n",
      "dtypes: datetime64[ns](1), int64(1), object(2)\n",
      "memory usage: 2.3+ MB\n"
     ]
    }
   ],
   "source": [
    "df = pd.read_csv('opendata.csv', encoding='Windows-1251')\n",
    "df['date'] = df['date'].astype('datetime64[ns]')\n",
    "df.info()"
   ]
  },
  {
   "cell_type": "code",
   "execution_count": 3,
   "metadata": {},
   "outputs": [],
   "source": [
    "def show_interactive(regions_value, indicator_value, date_interval):\n",
    "    start_date = date_interval[0].to_pydatetime()\n",
    "    end_date = date_interval[1].to_pydatetime()\n",
    "    #фильтруем согласно условиям\n",
    "    result_df = df.loc[(df.name == indicator_value) &\n",
    "                       df.region.isin(regions_value) &\n",
    "                       (df.date >=  start_date) &\n",
    "                       (df.date <=  end_date)\n",
    "                      ]\n",
    "    #формируему график\n",
    "    fig, ax = plt.subplots(figsize=(10,10))\n",
    "    for i, group in result_df.groupby('region'):\n",
    "        group.plot(x='date', y='value', ax=ax, label=group['region'].iloc[0])\n",
    "    ax.set_title(indicator_value)\n",
    "    ax.set_xlabel('Годы')\n",
    "    plt.show()"
   ]
  },
  {
   "cell_type": "code",
   "execution_count": 4,
   "metadata": {},
   "outputs": [
    {
     "data": {
      "application/vnd.jupyter.widget-view+json": {
       "model_id": "c686b0d4673b47b2ab846158b6c0302a",
       "version_major": 2,
       "version_minor": 0
      },
      "text/plain": [
       "interactive(children=(SelectMultiple(description='Выберите регионы', layout=Layout(height='180px', width='50%'…"
      ]
     },
     "metadata": {},
     "output_type": "display_data"
    }
   ],
   "source": [
    "start_date = df.date.min()\n",
    "end_date = df.date.max()\n",
    "\n",
    "dates = pd.date_range(start_date, end_date, freq='D')\n",
    "\n",
    "options = [(date.strftime(' %d %b %Y '), date) for date in dates]\n",
    "index = (0, len(options)-1)\n",
    "\n",
    "#Создаем интерактивную меню\n",
    "elem  = interact_manual(show_interactive, \n",
    "          regions_value =  widgets.SelectMultiple(\n",
    "                           description=\"Выберите регионы\",\n",
    "                           options=df.region.unique(),\n",
    "                           layout=Layout(width='50%', height='180px'),\n",
    "                           style = {'description_width': 'initial'}\n",
    "                           ),\n",
    "          indicator_value = widgets.Select(\n",
    "                            description='Укажите показатель',\n",
    "                            options=df.name.unique(),\n",
    "                            layout=Layout(width='50%', height='180px'),\n",
    "                            style = {'description_width': 'initial'}\n",
    "                            ),\n",
    "          date_interval =  widgets.SelectionRangeSlider(\n",
    "                        options=options,\n",
    "                        index=index,\n",
    "                        description='Интервал',\n",
    "                        orientation='horizontal',\n",
    "                        layout={'width': '600px'},\n",
    "                        style = {'description_width': 'initial'}\n",
    "                        )\n",
    "        )"
   ]
  }
 ],
 "metadata": {
  "kernelspec": {
   "display_name": "Python 3",
   "language": "python",
   "name": "python3"
  },
  "language_info": {
   "codemirror_mode": {
    "name": "ipython",
    "version": 3
   },
   "file_extension": ".py",
   "mimetype": "text/x-python",
   "name": "python",
   "nbconvert_exporter": "python",
   "pygments_lexer": "ipython3",
   "version": "3.7.1"
  }
 },
 "nbformat": 4,
 "nbformat_minor": 2
}
