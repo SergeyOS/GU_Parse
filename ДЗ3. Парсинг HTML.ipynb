{
 "cells": [
  {
   "cell_type": "markdown",
   "metadata": {},
   "source": [
    "1) Необходимо собрать информацию о вакансиях на должность программиста или разработчика с сайта job.ru или hh.ru. (Можно с обоих сразу) Приложение должно анализировать несколько страниц сайта. Получившийся список должен содержать в себе:\n",
    "\n",
    "*Наименование вакансии, \n",
    "*Предлагаемую зарплату \n",
    "*Ссылку на саму вакансию  \n",
    "2) Доработать приложение таким образом, чтобы можно было искать разработчиков на разные языки программирования (Например Python, Java, C++)"
   ]
  },
  {
   "cell_type": "code",
   "execution_count": null,
   "metadata": {
    "scrolled": true
   },
   "outputs": [],
   "source": [
    "from requests import Request, Session, RequestException, Response\n",
    "from lxml import html\n",
    "import urllib.parse\n",
    "\n",
    "MAX_PAGE = 5  # ограничение количества страниц"
   ]
  },
  {
   "cell_type": "code",
   "execution_count": null,
   "metadata": {
    "scrolled": true
   },
   "outputs": [],
   "source": [
    "# Возвращает результат запроса\n",
    "def html_from_url(session, url, params, timeout=50):\n",
    "    msg = ''\n",
    "    response = Response()\n",
    "    try:\n",
    "        headers = {'accept': '*/&*',\n",
    "                   'user-agent': 'Mozilla/5.0 (Windows NT 10.0; Win64; x64) AppleWebKit/537.36 '\n",
    "                                 '(KHTML, like Gecko) Chrome/75.0.3770.142 Safari/537.36'}\n",
    "        request = Request('GET', url, params=params, headers=headers)\n",
    "        prepare_request = session.prepare_request(request)\n",
    "\n",
    "        response = session.send(prepare_request,\n",
    "                                timeout=timeout\n",
    "                                )\n",
    "        # print(response.url)\n",
    "    except RequestException as e:\n",
    "        msg = str(e)\n",
    "    return response.text, response.status_code, msg\n",
    "\n",
    "\n",
    "# Возвращает параметры ссылки на следующую страницу\n",
    "def hh_next_url(html_text):\n",
    "    root = html.fromstring(html_text)\n",
    "    results_list = root.xpath('//a[contains(@class, \"bloko-button HH-Pager-Controls-Next HH-Pager-Control\")]')\n",
    "    if len(results_list) > 0:\n",
    "        # print(results_list[0].get('href'))\n",
    "        return params_from_url(results_list[0].get('href'))\n",
    "    else:\n",
    "        return None  # Если ссылки на следующую страницу нет, то это последняя страница\n",
    "\n",
    "\n",
    "# Разбирает параметры ссылки\n",
    "def params_from_url(url):\n",
    "    params = {}\n",
    "    if len(url) > 1:\n",
    "        for spam in url.split('?')[1].split('&'):\n",
    "            key = spam.split('=')[0]\n",
    "            value = spam.split('=')[1]\n",
    "            params[key] = urllib.parse.unquote(value)\n",
    "        return params\n",
    "    else:\n",
    "        return None\n",
    "\n",
    "\n",
    "# парсинг страницы с вакансиями\n",
    "def hh_parse_vacancy(html_text):\n",
    "    result = []\n",
    "    root = html.fromstring(html_text)\n",
    "    vacancies_list = root.xpath('//a[contains(@class, \"bloko-link HH-LinkModifier\")]')\n",
    "    salary_list = root.xpath('//div[contains(@class, \"vacancy-serp-item__sidebar\")]')\n",
    "    for text_vacancy, salary_vacancy in zip(vacancies_list, salary_list):\n",
    "        result.append({\n",
    "            'title': text_vacancy.text_content(),\n",
    "            'url': text_vacancy.get('href').split('?')[0],\n",
    "            'salary': salary_vacancy.text_content() if len(salary_vacancy.text_content()) > 0 else \"\"\n",
    "        })\n",
    "    return result\n",
    "\n",
    "\n",
    "# печать вакансий по заданным параметрым\n",
    "def print_hh_vacancies(hh_vacancies, vacancy, area, limit=10):\n",
    "    print('*' * 120)\n",
    "    print(\n",
    "        f'По заданным параметрам \\\"{vacancy} {area}\\\" всего найдено {len(hh_vacancies)}, в том числе были найдены следуюшие вакансии')\n",
    "    i = 1\n",
    "    for vacancy in hh_vacancies[:limit]:\n",
    "        salary_text = ''\n",
    "        if len(vacancy[\"salary\"]) > 0:\n",
    "            salary_text = f'с зарплатой {vacancy[\"salary\"]}'\n",
    "        else:\n",
    "            salary_text = 'зарплата не указана'\n",
    "        print(f'{i}.Вакансия {vacancy[\"title\"]} по ссылке {vacancy[\"url\"]} {salary_text}')\n",
    "        i += 1\n",
    "\n",
    "\n",
    "# основная функция сбора данных о вакансиях по заданным параметрам\n",
    "def hh_get_vacancy_with_params(hh_session, hh_url, vacancy, area, max_page=MAX_PAGE):\n",
    "    hh_params = {'text': f'{vacancy} {area}'}\n",
    "    hh_vacancies = []\n",
    "    page = 0\n",
    "    while hh_params != None and page < MAX_PAGE:\n",
    "        hh_html, status_code, msg = html_from_url(hh_session, hh_url, hh_params)\n",
    "        if status_code == 200:\n",
    "            hh_vacancies.extend(hh_parse_vacancy(hh_html))\n",
    "            hh_params = hh_next_url(hh_html)\n",
    "        else:\n",
    "            print(f'Ошибка загрузки страницы {hh_url}: {msg}')\n",
    "            break\n",
    "        page += 1\n",
    "    return hh_vacancies"
   ]
  },
  {
   "cell_type": "code",
   "execution_count": null,
   "metadata": {},
   "outputs": [],
   "source": [
    "vacancy_list = ['Python', 'Java', 'C++']\n",
    "area = 'Россия'\n",
    "\n",
    "hh_url = 'https://hh.ru/search/vacancy?'\n",
    "hh_session = Session()\n",
    "hh_vacancies = {}\n",
    "for spam in vacancy_list:\n",
    "    eggs = f'Программист {spam}'\n",
    "    hh_vacancies[eggs] = hh_get_vacancy_with_params(hh_session, hh_url, eggs, area, max_page=MAX_PAGE)\n",
    "    print_hh_vacancies(hh_vacancies[eggs], eggs, area, limit=10)"
   ]
  },
  {
   "cell_type": "code",
   "execution_count": null,
   "metadata": {},
   "outputs": [],
   "source": []
  }
 ],
 "metadata": {
  "kernelspec": {
   "display_name": "Python 3",
   "language": "python",
   "name": "python3"
  },
  "language_info": {
   "codemirror_mode": {
    "name": "ipython",
    "version": 3
   },
   "file_extension": ".py",
   "mimetype": "text/x-python",
   "name": "python",
   "nbconvert_exporter": "python",
   "pygments_lexer": "ipython3",
   "version": "3.7.1"
  }
 },
 "nbformat": 4,
 "nbformat_minor": 2
}
