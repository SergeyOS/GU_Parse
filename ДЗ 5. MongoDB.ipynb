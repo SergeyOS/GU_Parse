{
 "cells": [
  {
   "cell_type": "markdown",
   "metadata": {},
   "source": [
    "1) Развернуть у себя на компьютере/виртуальной машине/хостинге MongoDB и реализовать функцию, записывающую собранные объявления с avito.ru в созданную БД (xpath/BS для парсинга на выбор)  \n",
    "2) Написать функцию, которая производит поиск и выводит на экран объявления с ценой меньше введенной суммы  \n",
    "*Написать функцию, которая будет добавлять в вашу базу данных только новые объявления"
   ]
  },
  {
   "cell_type": "code",
   "execution_count": 1,
   "metadata": {},
   "outputs": [],
   "source": [
    "import requests \n",
    "from bs4 import BeautifulSoup\n",
    "from pymongo import MongoClient\n",
    "from collections import namedtuple\n",
    "import time"
   ]
  },
  {
   "cell_type": "code",
   "execution_count": 2,
   "metadata": {},
   "outputs": [],
   "source": [
    "Entry = namedtuple('Entry', ['id', 'title', 'price', 'href'])\n",
    "\n",
    "\n",
    "# Возвращает результат запроса к сайту\n",
    "def html_from_url(url, params = None, timeout = 50):\n",
    "    msg = ''\n",
    "    session = requests.Session()\n",
    "    response = requests.Response()\n",
    "    try:\n",
    "        headers = {'accept': '*/&*',\n",
    "                   'user-agent': 'Mozilla/5.0 (Windows NT 10.0; Win64; x64) AppleWebKit/537.36 '\n",
    "                                 '(KHTML, like Gecko) Chrome/75.0.3770.142 Safari/537.36'}\n",
    "        if params is None:\n",
    "            response = requests.get(url,headers=headers, timeout=timeout)\n",
    "        else:\n",
    "            response = requests.get(url,headers=headers,params=params, timeout=timeout)\n",
    "        print(response.url)\n",
    "    except requests.exceptions.ConnectionError:\n",
    "        msg = 'Проблемы с интернет соединением'\n",
    "    except requests.RequestException as e:\n",
    "        msg = str(e)\n",
    "    return response.text, response.status_code, msg\n",
    "\n",
    "def parse_avito(url, category_url, page = 1):\n",
    "    news_url = url+'/'+category_url\n",
    "    result = []\n",
    "    html_doc, status_code, msg = html_from_url(avito_url + category_url, {'p':f'{page}'}) \n",
    "    if status_code != 200:\n",
    "        print(f'Ошибка загрузки страницы {news_url} : {msg}')\n",
    "    else:\n",
    "            soup = BeautifulSoup(html_doc, 'html.parser')    \n",
    "            items = soup.findAll('div', {'class': 'item'})\n",
    "            for item in items:\n",
    "                id = item.attrs['id']\n",
    "                descr = item.find('a', {'itemprop':'url'})\n",
    "                href = avito_url + descr.attrs['href']          \n",
    "                title = descr.attrs['title']\n",
    "                try:\n",
    "                    price = item.find('span', {'itemprop':'price'}).text\n",
    "                except AttributeError:\n",
    "                    price= item.find('span', {'class':'price-value'}).text\n",
    "                try:\n",
    "                    price = int(price.strip().replace(' ', '').replace('₽', ''))\n",
    "                except ValueError:\n",
    "                    price = None\n",
    "                \n",
    "                result.append(Entry(id, title, price, href))\n",
    "    return result\n",
    "#вставляет информацию об объявлении, если ранее объявления с таким идентификатором не было в базе данных\n",
    "def insert_items(avito_db, items):\n",
    "    for item in items:\n",
    "        if avito_db.count_documents({ '_id': item.id}) == 0:\n",
    "            avito_db.insert_one( {\n",
    "                                '_id':item.id,\n",
    "                                'title':item.title,\n",
    "                                'price':item.price,\n",
    "                                'href':item.href\n",
    "                            })\n",
    "#поиск объявлений с ценой не менее указанной\n",
    "def item_search(price,collection):\n",
    "    return collection.find( {'price': {'$gte': price} } )"
   ]
  },
  {
   "cell_type": "code",
   "execution_count": 3,
   "metadata": {
    "scrolled": true
   },
   "outputs": [
    {
     "name": "stdout",
     "output_type": "stream",
     "text": [
      "https://www.avito.ru/perm/bytovaya_elektronika?p=9\n"
     ]
    }
   ],
   "source": [
    "MIN_PAGE = 9\n",
    "MAX_PAGE = 9\n",
    "avito_url = 'https://www.avito.ru'\n",
    "category_url = '/perm/bytovaya_elektronika/'\n",
    "\n",
    "client = MongoClient('mongodb://127.0.0.1:27017')\n",
    "db = client['test']\n",
    "avito_db = db.test\n",
    "#test_db.drop()\n",
    "\n",
    "for page in range(MIN_PAGE,MAX_PAGE + 1):\n",
    "    items = parse_avito(avito_url, category_url, page) \n",
    "    insert_items(avito_db, items)\n",
    "    if page !=MAX_PAGE + 1:\n",
    "        time.sleep( 50 )"
   ]
  },
  {
   "cell_type": "code",
   "execution_count": 4,
   "metadata": {},
   "outputs": [
    {
     "name": "stdout",
     "output_type": "stream",
     "text": [
      "Ноутбук Lenovo Yoga 530 с сенсорным экраном новый в Перми стоит 34500\n",
      "Ссылка: https://www.avito.ru/perm/noutbuki/noutbuk_lenovo_yoga_530_s_sensornym_ekranom_novyy_1490123641\n",
      "\n",
      "iPhone 8 Plus в Перми стоит 41990\n",
      "Ссылка: https://www.avito.ru/perm/telefony/iphone_8_plus_968264057\n",
      "\n",
      "iPhone Xs 64gb space grey в Перми стоит 72790\n",
      "Ссылка: https://www.avito.ru/perm/telefony/iphone_xs_64gb_space_grey_1765028880\n",
      "\n",
      "iPhone X в Перми стоит 49990\n",
      "Ссылка: https://www.avito.ru/perm/telefony/iphone_x_1188477691\n",
      "\n",
      "iPhone 7 128GB Gold Новый в Перми стоит 38490\n",
      "Ссылка: https://www.avito.ru/perm/telefony/iphone_7_128gb_gold_novyy_971228856\n",
      "\n",
      "iPhone 7 Plus 128GB Jet Black Новый в Перми стоит 43990\n",
      "Ссылка: https://www.avito.ru/perm/telefony/iphone_7_plus_128gb_jet_black_novyy_991441944\n",
      "\n",
      "iPhone 7 128GB (Розовое золото) Новый в Перми стоит 38490\n",
      "Ссылка: https://www.avito.ru/perm/telefony/iphone_7_128gb_rozovoe_zoloto_novyy_891111559\n",
      "\n",
      "iPhone 7 32GB Gold Новый в Перми стоит 30990\n",
      "Ссылка: https://www.avito.ru/perm/telefony/iphone_7_32gb_gold_novyy_991980410\n",
      "\n",
      "iPhone 7 32GB Silver Новый в Перми стоит 30990\n",
      "Ссылка: https://www.avito.ru/perm/telefony/iphone_7_32gb_silver_novyy_1131008714\n",
      "\n",
      "iPhone 7 Plus 128GB (серебристый) Новый в Перми стоит 43990\n",
      "Ссылка: https://www.avito.ru/perm/telefony/iphone_7_plus_128gb_serebristyy_novyy_904516754\n",
      "\n",
      "iPhone 7 Plus 128GB Black Новый в Перми стоит 43990\n",
      "Ссылка: https://www.avito.ru/perm/telefony/iphone_7_plus_128gb_black_novyy_1082089478\n",
      "\n",
      "iPhone 7 32GB Rose Gold Новый в Перми стоит 30990\n",
      "Ссылка: https://www.avito.ru/perm/telefony/iphone_7_32gb_rose_gold_novyy_1132249916\n",
      "\n",
      "iPhone 7 Plus 128Gb Red Новый в Перми стоит 43990\n",
      "Ссылка: https://www.avito.ru/perm/telefony/iphone_7_plus_128gb_red_novyy_975021388\n",
      "\n",
      "iPhone 7 Plus 32GB Rose Gold Новый в Перми стоит 37490\n",
      "Ссылка: https://www.avito.ru/perm/telefony/iphone_7_plus_32gb_rose_gold_novyy_1181767414\n",
      "\n",
      "iPhone 7 Plus 32GB Gold Новый в Перми стоит 37490\n",
      "Ссылка: https://www.avito.ru/perm/telefony/iphone_7_plus_32gb_gold_novyy_1042604265\n",
      "\n",
      "Sony A9 в Перми стоит 185000\n",
      "Ссылка: https://www.avito.ru/perm/fototehnika/sony_a9_1443134589\n",
      "\n",
      "iPhone 7 Plus 128GB Rose Gold Новый в Перми стоит 43990\n",
      "Ссылка: https://www.avito.ru/perm/telefony/iphone_7_plus_128gb_rose_gold_novyy_996318222\n",
      "\n",
      "Аудиосистема B&W в Перми стоит 180000\n",
      "Ссылка: https://www.avito.ru/perm/audio_i_video/audiosistema_bw_969894346\n",
      "\n",
      "iPhone 7 128GB Silver Новый в Перми стоит 38490\n",
      "Ссылка: https://www.avito.ru/perm/telefony/iphone_7_128gb_silver_novyy_1093671145\n",
      "\n",
      "iPhone 7 128Gb Red Новый в Перми стоит 38490\n",
      "Ссылка: https://www.avito.ru/perm/telefony/iphone_7_128gb_red_novyy_1113738183\n",
      "\n",
      "Avресивер Marantz SR7007 в Перми стоит 43000\n",
      "Ссылка: https://www.avito.ru/perm/audio_i_video/avresiver_marantz_sr7007_1777851221\n",
      "\n",
      "Xiaomi Mi Notebook Air 13.3 2018 i5 8/256 GB Новый в Перми стоит 52999\n",
      "Ссылка: https://www.avito.ru/perm/noutbuki/xiaomi_mi_notebook_air_13.3_2018_i5_8256_gb_novyy_1264836643\n",
      "\n",
      "iPhone X 256 в Перми стоит 53990\n",
      "Ссылка: https://www.avito.ru/perm/telefony/iphone_x_256_1595262650\n",
      "\n",
      "Ноутбук Lenovo 720-15ikbr в Перми стоит 31000\n",
      "Ссылка: https://www.avito.ru/perm/noutbuki/noutbuk_lenovo_720-15ikbr_1785855384\n",
      "\n"
     ]
    }
   ],
   "source": [
    "MIN_PRICE = 30000\n",
    "for item in item_search(MIN_PRICE, avito_db):\n",
    "    print(f'{item[\"title\"]} стоит {item[\"price\"]}\\nСсылка: {item[\"href\"]}\\n')"
   ]
  },
  {
   "cell_type": "code",
   "execution_count": null,
   "metadata": {},
   "outputs": [],
   "source": []
  }
 ],
 "metadata": {
  "kernelspec": {
   "display_name": "Python 3",
   "language": "python",
   "name": "python3"
  },
  "language_info": {
   "codemirror_mode": {
    "name": "ipython",
    "version": 3
   },
   "file_extension": ".py",
   "mimetype": "text/x-python",
   "name": "python",
   "nbconvert_exporter": "python",
   "pygments_lexer": "ipython3",
   "version": "3.7.1"
  }
 },
 "nbformat": 4,
 "nbformat_minor": 2
}
